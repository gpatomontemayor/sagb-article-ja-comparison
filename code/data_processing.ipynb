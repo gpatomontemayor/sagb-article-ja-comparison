{
 "cells": [
  {
   "cell_type": "code",
   "execution_count": 1,
   "metadata": {},
   "outputs": [
    {
     "name": "stderr",
     "output_type": "stream",
     "text": [
      "Exception in thread Thread-7:\n",
      "Traceback (most recent call last):\n",
      "  File \"C:\\Users\\Gonzalo\\anaconda3\\lib\\threading.py\", line 973, in _bootstrap_inner\n",
      "    self.run()\n",
      "  File \"C:\\Users\\Gonzalo\\anaconda3\\lib\\threading.py\", line 910, in run\n",
      "    self._target(*self._args, **self._kwargs)\n",
      "  File \"C:\\Users\\Gonzalo\\anaconda3\\lib\\subprocess.py\", line 1479, in _readerthread\n",
      "    buffer.append(fh.read())\n",
      "  File \"C:\\Users\\Gonzalo\\anaconda3\\lib\\codecs.py\", line 322, in decode\n",
      "    (result, consumed) = self._buffer_decode(data, self.errors, final)\n",
      "UnicodeDecodeError: 'utf-8' codec can't decode byte 0xf3 in position 116: invalid continuation byte\n",
      "Unable to determine R library path: Command '('C:\\\\Users\\\\Gonzalo\\\\anaconda3\\\\lib\\\\R\\\\bin\\\\Rscript', '-e', 'cat(Sys.getenv(\"LD_LIBRARY_PATH\"))')' returned non-zero exit status 1.\n"
     ]
    },
    {
     "ename": "Error",
     "evalue": "Canceled future for execute_request message before replies were done",
     "output_type": "error",
     "traceback": [
      "Error: Canceled future for execute_request message before replies were done",
      "at t.KernelShellFutureHandler.dispose (c:\\Users\\Gonzalo\\.vscode\\extensions\\ms-toolsai.jupyter-2022.3.1000901801\\out\\extension.js:2:1204175)",
      "at c:\\Users\\Gonzalo\\.vscode\\extensions\\ms-toolsai.jupyter-2022.3.1000901801\\out\\extension.js:2:1223227",
      "at Map.forEach (<anonymous>)",
      "at v._clearKernelState (c:\\Users\\Gonzalo\\.vscode\\extensions\\ms-toolsai.jupyter-2022.3.1000901801\\out\\extension.js:2:1223212)",
      "at v.dispose (c:\\Users\\Gonzalo\\.vscode\\extensions\\ms-toolsai.jupyter-2022.3.1000901801\\out\\extension.js:2:1216694)",
      "at c:\\Users\\Gonzalo\\.vscode\\extensions\\ms-toolsai.jupyter-2022.3.1000901801\\out\\extension.js:2:533674",
      "at t.swallowExceptions (c:\\Users\\Gonzalo\\.vscode\\extensions\\ms-toolsai.jupyter-2022.3.1000901801\\out\\extension.js:2:913059)",
      "at dispose (c:\\Users\\Gonzalo\\.vscode\\extensions\\ms-toolsai.jupyter-2022.3.1000901801\\out\\extension.js:2:533652)",
      "at t.RawSession.dispose (c:\\Users\\Gonzalo\\.vscode\\extensions\\ms-toolsai.jupyter-2022.3.1000901801\\out\\extension.js:2:537330)",
      "at processTicksAndRejections (node:internal/process/task_queues:96:5)"
     ]
    }
   ],
   "source": [
    "import pandas as pd\n",
    "import rpy2.robjects as robjects\n",
    "pd.set_option('display.max_columns', None)"
   ]
  },
  {
   "cell_type": "code",
   "execution_count": null,
   "metadata": {},
   "outputs": [],
   "source": [
    "'../data/'+ value['nbaid'] +'/' + year + 'boxscores.json'\n",
    "'../data/'+ value['nbaid'] +'/season_avg_per100.json'\n"
   ]
  },
  {
   "cell_type": "code",
   "execution_count": null,
   "metadata": {},
   "outputs": [],
   "source": [
    "players = {\n",
    "    'Ja Morant': {'nbaid': '1629630', 'nbateamid': '1610612763', 'nbaseasons': ['2019-20','2020-21','2021-22'], 'bballrefid': 'm/moranja01', 'bballrefseasons': ['2020', '2021', '2022']},\n",
    "    'Derrick Rose': {'nbaid': '201565', 'nbateamid': '1610612741', 'nbaseasons': ['2008-09','2009-10','2010-11'], 'bballrefid': 'r/rosede01', 'bballrefseasons': ['2009', '2010', '2011']},\n",
    "    'Russell Westbrook': {'nbaid': '201566', 'nbateamid': '1610612760', 'nbaseasons': ['2008-09','2009-10','2010-11'], 'bballrefid': 'w/westbru01', 'bballrefseasons': ['2009', '2010', '2011']},\n",
    "    'Allen Iverson': {'nbaid': '947', 'nbateamid': '1610612755', 'nbaseasons': ['1997-98','1998-99','1999-2000'], 'bballrefid': 'i/iversal01', 'bballrefseasons': ['1998', '1999', '2000']}\n",
    "}\n"
   ]
  },
  {
   "cell_type": "code",
   "execution_count": null,
   "metadata": {},
   "outputs": [],
   "source": [
    "ja_data = pd.read_json('../data/'+ players['Ja Morant']['nbaid'] +'/season_avg_per100.json')"
   ]
  },
  {
   "cell_type": "code",
   "execution_count": null,
   "metadata": {},
   "outputs": [],
   "source": [
    "%%R -i ja_dataframe"
   ]
  }
 ],
 "metadata": {
  "interpreter": {
   "hash": "cc3f330b50fe39be0c0be814fceb468cf76a12b0f7c5ddfcadc5b692d04ca0b6"
  },
  "kernelspec": {
   "display_name": "Python 3.9.7 ('base')",
   "language": "python",
   "name": "python3"
  },
  "language_info": {
   "codemirror_mode": {
    "name": "ipython",
    "version": 3
   },
   "file_extension": ".py",
   "mimetype": "text/x-python",
   "name": "python",
   "nbconvert_exporter": "python",
   "pygments_lexer": "ipython3",
   "version": "3.9.7"
  },
  "orig_nbformat": 4
 },
 "nbformat": 4,
 "nbformat_minor": 2
}
