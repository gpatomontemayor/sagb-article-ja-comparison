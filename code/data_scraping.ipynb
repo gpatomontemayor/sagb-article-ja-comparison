{
 "cells": [
  {
   "cell_type": "code",
   "execution_count": 7,
   "metadata": {},
   "outputs": [],
   "source": [
    "# Import the webdriver\n",
    "from selenium import webdriver\n",
    "from selenium.webdriver.common.by import By\n",
    "# Import the chrome client\n",
    "from webdriver_manager.chrome import ChromeDriverManager\n",
    "from selenium.webdriver.chrome.service import Service\n",
    "# Import waiting stuff\n",
    "from selenium.webdriver.support.ui import WebDriverWait \n",
    "from selenium.webdriver.support import expected_conditions as EC\n",
    "# Import nba_api for shot data\n",
    "from nba_api.stats.endpoints import shotchartdetail\n",
    "import json\n",
    "import requests\n",
    "# Import pandas for data analysis\n",
    "import pandas as pd\n",
    "from extras import *\n",
    "pd.set_option('display.max_columns', None)"
   ]
  },
  {
   "cell_type": "code",
   "execution_count": 8,
   "metadata": {},
   "outputs": [
    {
     "name": "stderr",
     "output_type": "stream",
     "text": [
      "\n",
      "\n",
      "====== WebDriver manager ======\n",
      "Current google-chrome version is 100.0.4896\n",
      "Get LATEST chromedriver version for 100.0.4896 google-chrome\n",
      "Trying to download new driver from https://chromedriver.storage.googleapis.com/100.0.4896.60/chromedriver_win32.zip\n",
      "Driver has been saved in cache [C:\\Users\\Gonzalo\\.wdm\\drivers\\chromedriver\\win32\\100.0.4896.60]\n"
     ]
    }
   ],
   "source": [
    "# Players using a new defined class for their data\n",
    "ja = Player('Ja Morant', '1629630', '1610612763', ['2019-20','2020-21','2021-22'])\n",
    "drose = Player('Derrick Rose', '201565', '1610612741', ['2008-09','2009-10','2010-11'])\n",
    "players = [ja, drose]\n",
    "\n",
    "# Install web-driver\n",
    "options = webdriver.ChromeOptions()\n",
    "options.add_argument(\"--start-maximized\")\n",
    "driver = webdriver.Chrome(service=Service(ChromeDriverManager().install()), options=options)"
   ]
  },
  {
   "cell_type": "markdown",
   "metadata": {},
   "source": [
    "Stats of each player per 100 possessions from NBA stats and basketball reference"
   ]
  },
  {
   "cell_type": "code",
   "execution_count": 4,
   "metadata": {},
   "outputs": [
    {
     "name": "stdout",
     "output_type": "stream",
     "text": [
      "Starting with Allen Iverson\n",
      "Table 1\n",
      "Table 2\n",
      "Table 3\n",
      "Table 4\n",
      "Table 5\n",
      "Season average per 100 possesions for Allen Iverson completed.\n",
      "Boxscore Allen Iverson 1997 completed.\n",
      "Boxscore Allen Iverson 1998 completed.\n",
      "Boxscore Allen Iverson 1999 completed.\n"
     ]
    }
   ],
   "source": [
    "# Getting data season average per 100pos\n",
    "tables_NBA_100pos = ['//*[@id=\"__next\"]/div[2]/section/div[4]/section[3]/div/div[2]/div[3]/table', '//*[@id=\"__next\"]/div[2]/section/div[4]/section[3]/div/div[3]/div/div[3]/table', '//*[@id=\"__next\"]/div[2]/section/div[4]/section[3]/div/div[4]/div/div[3]/table', '//*[@id=\"__next\"]/div[2]/section/div[4]/section[3]/div/div[5]/div/div[3]/table', '//*[@id=\"__next\"]/div[2]/section/div[4]/section[3]/div/div[6]/div/div[3]/table']\n",
    "#driver.get('https://www.nba.com/stats/')\n",
    "# Uncomment next line if first time to accept cookies and prevent errors\n",
    "#WebDriverWait(driver, 10).until(EC.presence_of_element_located((By.XPATH ,'//*[@id=\"onetrust-accept-btn-handler\"]'))).click()\n",
    "\n",
    "for player in players:\n",
    "    # Website\n",
    "    print('Starting with', player.name())\n",
    "    driver.get('https://www.nba.com/stats/player/' + player.nbaid() + '?PerMode=Per100Possessions')\n",
    "    season_avg_per100 = pd.DataFrame()\n",
    "\n",
    "    # Get all 5 tables in the NBA.com website\n",
    "    for j in range(5):\n",
    "        print('Table', j+1)\n",
    "        html_table = WebDriverWait(driver, 10).until(EC.presence_of_element_located((By.XPATH, tables_NBA_100pos[j]))).get_attribute(\"outerHTML\") #This is the xpath (not full)\n",
    "        table = pd.read_html(html_table)\n",
    "        season_avg_per100 = pd.concat([season_avg_per100, table[0].tail(3).dropna(axis=1)], axis = 1)\n",
    "    print('Season average per 100 possesions for', player.name(), 'completed.')\n",
    "    # Format\n",
    "    season_avg_per100.columns = season_avg_per100.columns.get_level_values(1)\n",
    "    season_avg_per100 = season_avg_per100.loc[:,~season_avg_per100.columns.duplicated()]\n",
    "    season_avg_per100.to_json('../data/'+ player.nbaid() +'/season_avg_per100.json')"
   ]
  },
  {
   "cell_type": "markdown",
   "metadata": {},
   "source": [
    "Download data of usage, scoring and shooting"
   ]
  },
  {
   "cell_type": "code",
   "execution_count": 12,
   "metadata": {},
   "outputs": [
    {
     "name": "stdout",
     "output_type": "stream",
     "text": [
      "trad 2019-20 completed\n",
      "adv 2019-20 completed\n",
      "scoring 2019-20 completed\n",
      "misc 2019-20 completed\n",
      "usage 2019-20 completed\n",
      "shooting 2019-20 completed\n",
      "trad 2010-11 completed\n",
      "adv 2010-11 completed\n",
      "scoring 2010-11 completed\n",
      "misc 2010-11 completed\n",
      "usage 2010-11 completed\n",
      "shooting 2010-11 completed\n",
      "trad 2020-21 completed\n",
      "adv 2020-21 completed\n",
      "scoring 2020-21 completed\n",
      "misc 2020-21 completed\n",
      "usage 2020-21 completed\n",
      "shooting 2020-21 completed\n",
      "trad 2021-22 completed\n",
      "adv 2021-22 completed\n",
      "scoring 2021-22 completed\n",
      "misc 2021-22 completed\n",
      "usage 2021-22 completed\n",
      "shooting 2021-22 completed\n",
      "trad 2008-09 completed\n",
      "adv 2008-09 completed\n",
      "scoring 2008-09 completed\n",
      "misc 2008-09 completed\n",
      "usage 2008-09 completed\n",
      "shooting 2008-09 completed\n",
      "trad 2009-10 completed\n",
      "adv 2009-10 completed\n",
      "scoring 2009-10 completed\n",
      "misc 2009-10 completed\n",
      "usage 2009-10 completed\n",
      "shooting 2009-10 completed\n"
     ]
    }
   ],
   "source": [
    "# Dictionary with webpages\n",
    "links = {\n",
    "    'trad': 'https://www.nba.com/stats/players/traditional/?sort=PTS&dir=-1&Season={0}&SeasonType=Regular%20Season&PerMode=Per100Possessions&CF=GP*GE*30&PlayerPosition=G',\n",
    "    'adv': 'https://www.nba.com/stats/players/advanced/?sort=GP&dir=-1&Season={0}&SeasonType=Regular%20Season&CF=GP*GE*30&PlayerPosition=G',\n",
    "    'scoring': 'https://www.nba.com/stats/players/scoring/?sort=MIN&dir=-1&Season={0}&SeasonType=Regular%20Season&CF=GP*GE*30&PlayerPosition=G',\n",
    "    'misc': 'https://www.nba.com/stats/players/misc/?sort=GP&dir=-1&Season={0}&SeasonType=Regular%20Season&PerMode=Per100Possessions&CF=GP*GE*30&PlayerPosition=G',\n",
    "    'usage': 'https://www.nba.com/stats/players/usage/?sort=USG_PCT&dir=-1&Season={0}&SeasonType=Regular%20Season&CF=GP*GE*30&PlayerPosition=G',\n",
    "    'shooting': 'https://www.nba.com/stats/players/shooting/?Season={0}&SeasonType=Regular%20Season&DistanceRange=By%20Zone&PlayerPosition=G'\n",
    "}\n",
    "\n",
    "# Columns for data processing\n",
    "shooting_columns = ['PLAYER', 'TEAM', 'AGE', 'RA FGM', 'RA FGA', 'RA FG%',\n",
    "                    'ITP FGM', 'ITP FGA', 'ITP FG%', 'MR FGM', 'MR FGA', 'MR FG%',\n",
    "                    'LC3 FGM', 'LC3 FGA', 'LC3 FG%','RC3 FGM', 'RC3 FGA', 'RC3 FG%',\n",
    "                    'C3 FGM', 'C3 FGA', 'C3 FG%', 'AB3 FGM', 'AB3 FGA', 'AB3 FG%']\n",
    "# Uncomment next lines if first time opening NBA.com to accept cookies and prevent errors\n",
    "# driver.get('https://www.nba.com/stats/')\n",
    "# WebDriverWait(driver, 10).until(EC.presence_of_element_located((By.XPATH ,'//*[@id=\"onetrust-accept-btn-handler\"]'))).click()\n",
    "\n",
    "seasons = list(set([s for player in players for s in player.nbaseasons()]))\n",
    "\n",
    "for season in seasons:\n",
    "    # New dataframe for the whole season\n",
    "    general_season = pd.DataFrame()\n",
    "    for stat, url in links.items():\n",
    "        driver.get(url.format(season))\n",
    "        WebDriverWait(driver, 10).until(EC.presence_of_element_located((By.XPATH ,'/html/body/main/div/div/div[2]/div/div/nba-stat-table/div[1]/div/div/select'))).click()\n",
    "        driver.find_element(By.XPATH, '/html/body/main/div/div/div[2]/div/div/nba-stat-table/div[1]/div/div/select/option[1]').click()\n",
    "        html_table = driver.find_element(By.XPATH, '/html/body/main/div/div/div[2]/div/div/nba-stat-table/div[2]/div[1]/table').get_attribute('outerHTML')\n",
    "        stats_season = pd.read_html(html_table)[0]\n",
    "        # Cleaning column names\n",
    "        if 'Unnamed: 0' in stats_season.columns:\n",
    "            stats_season = stats_season.drop('Unnamed: 0', axis=1)\n",
    "        if stat == 'shooting':\n",
    "            stats_season.columns = shooting_columns\n",
    "            stats_season.dropna(axis=0, inplace=True)\n",
    "        else:\n",
    "            stats_season.dropna(axis=1, inplace=True)\n",
    "        # Formatting into upper\n",
    "        stats_season.columns = stats_season.columns.str.upper()\n",
    "        # Merge into general season\n",
    "        if general_season.empty is True:\n",
    "            general_season = stats_season\n",
    "        else:\n",
    "            general_season = pd.merge(general_season, stats_season, on='PLAYER', suffixes=('', '_y'))\n",
    "            general_season = general_season.drop(general_season.filter(regex='_y$').columns.tolist(), axis=1)\n",
    "        print(stat, season, 'completed')\n",
    "    general_season.to_json('../data/byseason/' + season +'guards.json')\n"
   ]
  },
  {
   "cell_type": "markdown",
   "metadata": {},
   "source": [
    "Shot charts data"
   ]
  },
  {
   "cell_type": "code",
   "execution_count": 15,
   "metadata": {},
   "outputs": [
    {
     "name": "stdout",
     "output_type": "stream",
     "text": [
      "Starting with Ja Morant\n",
      "Ja Morant 2019-20 completed.\n",
      "Ja Morant 2020-21 completed.\n",
      "Ja Morant 2021-22 completed.\n",
      "Starting with Derrick Rose\n",
      "Derrick Rose 2008-09 completed.\n",
      "Derrick Rose 2009-10 completed.\n",
      "Derrick Rose 2010-11 completed.\n",
      "Starting with Russell Westbrook\n",
      "Russell Westbrook 2008-09 completed.\n",
      "Russell Westbrook 2009-10 completed.\n",
      "Russell Westbrook 2010-11 completed.\n",
      "Starting with Allen Iverson\n",
      "Allen Iverson 1996-97 completed.\n",
      "Allen Iverson 1997-98 completed.\n",
      "Allen Iverson 1998-99 completed.\n"
     ]
    }
   ],
   "source": [
    "for player in players:\n",
    "    print('Starting with ' + player.name())\n",
    "    for season in player.nbaseasons():\n",
    "        # Create JSON request\n",
    "        shot_json = shotchartdetail.ShotChartDetail(\n",
    "                team_id = player.nbateamid(),\n",
    "                player_id = player.nbaid(),\n",
    "                context_measure_simple = 'FGA',\n",
    "                season_nullable = season,\n",
    "                season_type_all_star = 'Regular Season')\n",
    "        # Load data into a dictionary\n",
    "        shot_data = json.loads(shot_json.get_json())\n",
    "        # Get the relevant data from our dictionary\n",
    "        relevant_data = shot_data['resultSets'][0]\n",
    "        # Get the headers and row data\n",
    "        headers = relevant_data['headers']\n",
    "        rows = relevant_data['rowSet']\n",
    "        # Create pandas DataFrame\n",
    "        player_data = pd.DataFrame(rows)\n",
    "        player_data.columns = headers\n",
    "        player_data.to_json('../data/' + player.nbaid() + '/' + season + '_shots.json')\n",
    "        print(player.name() + ' ' + season + ' completed.')"
   ]
  }
 ],
 "metadata": {
  "interpreter": {
   "hash": "cc3f330b50fe39be0c0be814fceb468cf76a12b0f7c5ddfcadc5b692d04ca0b6"
  },
  "kernelspec": {
   "display_name": "Python 3.9.7 ('base')",
   "language": "python",
   "name": "python3"
  },
  "language_info": {
   "codemirror_mode": {
    "name": "ipython",
    "version": 3
   },
   "file_extension": ".py",
   "mimetype": "text/x-python",
   "name": "python",
   "nbconvert_exporter": "python",
   "pygments_lexer": "ipython3",
   "version": "3.9.7"
  },
  "orig_nbformat": 4
 },
 "nbformat": 4,
 "nbformat_minor": 2
}
