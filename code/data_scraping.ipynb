{
 "cells": [
  {
   "cell_type": "code",
   "execution_count": 1,
   "metadata": {},
   "outputs": [],
   "source": [
    "# Import the webdriver\n",
    "from selenium import webdriver\n",
    "from selenium.webdriver.common.by import By\n",
    "# Import the chrome client\n",
    "from webdriver_manager.chrome import ChromeDriverManager\n",
    "from selenium.webdriver.chrome.service import Service\n",
    "# Import waiting stuff\n",
    "from selenium.webdriver.support.ui import WebDriverWait \n",
    "from selenium.webdriver.support import expected_conditions as EC\n",
    "# Import nba_api for shot data\n",
    "from nba_api.stats.endpoints import shotchartdetail\n",
    "import json\n",
    "import requests\n",
    "# Import pandas for data analysis\n",
    "import pandas as pd\n",
    "from extras import *\n",
    "pd.set_option('display.max_columns', None)"
   ]
  },
  {
   "cell_type": "code",
   "execution_count": 2,
   "metadata": {},
   "outputs": [
    {
     "name": "stderr",
     "output_type": "stream",
     "text": [
      "\n",
      "\n",
      "====== WebDriver manager ======\n",
      "Current google-chrome version is 100.0.4896\n",
      "Get LATEST chromedriver version for 100.0.4896 google-chrome\n",
      "Driver [C:\\Users\\Gonzalo\\.wdm\\drivers\\chromedriver\\win32\\100.0.4896.60\\chromedriver.exe] found in cache\n"
     ]
    }
   ],
   "source": [
    "# Players and the tables of their individual stats\n",
    "\n",
    "ja = Player('Ja Morant', '1629630', '1610612763', ['2019-20','2020-21','2021-22'], 'm/moranja01', ['2020', '2021', '2022'])\n",
    "drose = Player('Derrick Rose', '201565', '1610612741', ['2008-09','2009-10','2010-11'], 'r/rosede01', ['2009', '2010', '2011'])\n",
    "west = Player('Russell Westbrook', '201566', '1610612760', ['2008-09','2009-10','2010-11'], 'w/westbru01', ['2009', '2010', '2011'])\n",
    "iver = Player('Allen Iverson', '947', '1610612755', ['1996-97','1997-98','1998-99'], 'i/iversal01', [ '1997', '1998', '1999'])\n",
    "players = [ja, drose, west, iver]\n",
    "players2 = [ja, drose]\n",
    "\n",
    "# Install web-driver\n",
    "options = webdriver.ChromeOptions()\n",
    "options.add_argument(\"--start-maximized\")\n",
    "driver = webdriver.Chrome(service=Service(ChromeDriverManager().install()), options=options)"
   ]
  },
  {
   "cell_type": "markdown",
   "metadata": {},
   "source": [
    "Stats of each player per 100 possessions from NBA stats and basketball reference"
   ]
  },
  {
   "cell_type": "code",
   "execution_count": 4,
   "metadata": {},
   "outputs": [
    {
     "name": "stdout",
     "output_type": "stream",
     "text": [
      "Starting with Allen Iverson\n",
      "Table 1\n",
      "Table 2\n",
      "Table 3\n",
      "Table 4\n",
      "Table 5\n",
      "Season average per 100 possesions for Allen Iverson completed.\n",
      "Boxscore Allen Iverson 1997 completed.\n",
      "Boxscore Allen Iverson 1998 completed.\n",
      "Boxscore Allen Iverson 1999 completed.\n"
     ]
    }
   ],
   "source": [
    "# Getting data season average per 100pos\n",
    "tables_NBA_100pos = ['//*[@id=\"__next\"]/div[2]/section/div[4]/section[3]/div/div[2]/div[3]/table', '//*[@id=\"__next\"]/div[2]/section/div[4]/section[3]/div/div[3]/div/div[3]/table', '//*[@id=\"__next\"]/div[2]/section/div[4]/section[3]/div/div[4]/div/div[3]/table', '//*[@id=\"__next\"]/div[2]/section/div[4]/section[3]/div/div[5]/div/div[3]/table', '//*[@id=\"__next\"]/div[2]/section/div[4]/section[3]/div/div[6]/div/div[3]/table']\n",
    "#driver.get('https://www.nba.com/stats/')\n",
    "# Uncomment next line if first time to accept cookies and prevent errors\n",
    "#WebDriverWait(driver, 10).until(EC.presence_of_element_located((By.XPATH ,'//*[@id=\"onetrust-accept-btn-handler\"]'))).click()\n",
    "\n",
    "for player in players:\n",
    "    # Website\n",
    "    print('Starting with', player.name())\n",
    "    driver.get('https://www.nba.com/stats/player/' + player.nbaid() + '?PerMode=Per100Possessions')\n",
    "    season_avg_per100 = pd.DataFrame()\n",
    "\n",
    "    # Get all 5 tables in the webpage\n",
    "    for j in range(5):\n",
    "        print('Table', j+1)\n",
    "        html_table = WebDriverWait(driver, 10).until(EC.presence_of_element_located((By.XPATH, tables_NBA_100pos[j]))).get_attribute(\"outerHTML\") #This is the xpath (not full)\n",
    "        table = pd.read_html(html_table)\n",
    "        season_avg_per100 = pd.concat([season_avg_per100, table[0].tail(3).dropna(axis=1)], axis = 1)\n",
    "    print('Season average per 100 possesions for', player.name(), 'completed.')\n",
    "    # Format\n",
    "    season_avg_per100.columns = season_avg_per100.columns.get_level_values(1)\n",
    "    season_avg_per100 = season_avg_per100.loc[:,~season_avg_per100.columns.duplicated()]\n",
    "    season_avg_per100.to_json('../data/'+ player.nbaid() +'/season_avg_per100.json')\n",
    "\n",
    "    # Get data from boxscores\n",
    "    for year in player.bballrefseasons():\n",
    "        season_boxscore = pd.DataFrame()\n",
    "        driver.get('https://www.basketball-reference.com/players/' + player.bballrefid() + '/gamelog/' + year)\n",
    "        html_table = WebDriverWait(driver, 10).until(EC.presence_of_element_located((By.XPATH, '//*[@id=\"pgl_basic\"]'))).get_attribute('outerHTML')\n",
    "        season_boxscore = pd.read_html(html_table)[0]\n",
    "        season_boxscore = season_boxscore.drop(['Rk', 'Age', 'Tm', 'Unnamed: 5', 'Opp', 'Unnamed: 7'], axis = 1).dropna()\n",
    "        season_boxscore = season_boxscore.set_index('G').drop('G', axis = 0)\n",
    "        season_boxscore.to_json('../data/'+ player.nbaid() +'/' + year + 'boxscores.json')\n",
    "        print('Boxscore', player.name(), year , 'completed.')"
   ]
  },
  {
   "cell_type": "code",
   "execution_count": 6,
   "metadata": {},
   "outputs": [
    {
     "name": "stdout",
     "output_type": "stream",
     "text": [
      "0    17.45\n",
      "1    16.81\n",
      "2    24.53\n",
      "Name: PER, dtype: float64\n",
      "0    15.20\n",
      "1    17.90\n",
      "2    23.63\n",
      "Name: PER, dtype: float64\n",
      "0    16.05\n",
      "1    18.69\n",
      "2    23.62\n",
      "Name: PER, dtype: float64\n",
      "0    0.0\n",
      "1    0.0\n",
      "2    0.0\n",
      "Name: PER, dtype: float64\n"
     ]
    }
   ],
   "source": [
    "button_xpath = '//*[@id=\"onetrust-close-btn-container\"]/button'\n",
    "xpath = '//*[@id=\"fittPageContainer\"]/div[2]/div[5]/div/div[1]/section/div/div/div/div/div[2]/table'\n",
    "urls = ['4279888/ja-morant', '3468/russell-westbrook', '3456/derrick-rose', '366/allen-iverson']\n",
    "for url in urls:\n",
    "    driver.get('https://www.espn.com/nba/player/advancedstats/_/id/' + url)\n",
    "    #WebDriverWait(driver, 10).until(EC.presence_of_element_located((By.XPATH , button_xpath))).click()\n",
    "    print(pd.read_html(driver.find_element(By.XPATH, xpath).get_attribute('outerHTML'))[0].head(3)['PER'])"
   ]
  },
  {
   "cell_type": "markdown",
   "metadata": {},
   "source": [
    "Drives per game data for ja"
   ]
  },
  {
   "cell_type": "code",
   "execution_count": 5,
   "metadata": {},
   "outputs": [
    {
     "name": "stdout",
     "output_type": "stream",
     "text": [
      "Year 2019-20 completed\n",
      "Year 2020-21 completed\n",
      "Year 2021-22 completed\n"
     ]
    }
   ],
   "source": [
    "drives_per_game = pd.DataFrame()\n",
    "# Uncomment next lines if first time to accept cookies and prevent errors\n",
    "#driver.get('https://www.nba.com/stats/')\n",
    "#WebDriverWait(driver, 10).until(EC.presence_of_element_located((By.XPATH ,'//*[@id=\"onetrust-accept-btn-handler\"]'))).click()\n",
    "\n",
    "for year in players[0].nbaseasons():\n",
    "    # Scraping\n",
    "    driver.get('https://www.nba.com/stats/players/drives/?Season='+ year + '&SeasonType=Regular%20Season&sort=DRIVES&dir=1&CF=GP*GE*30&PlayerPosition=G')\n",
    "    WebDriverWait(driver, 10).until(EC.presence_of_element_located((By.XPATH ,'/html/body/main/div/div/div[2]/div/div/nba-stat-table/div[1]/div/div/select'))).click()\n",
    "    driver.find_element(By.XPATH, '/html/body/main/div/div/div[2]/div/div/nba-stat-table/div[1]/div/div/select/option[1]').click()\n",
    "    html_table = driver.find_element(By.XPATH, '/html/body/main/div/div/div[2]/div/div/nba-stat-table/div[2]/div[1]/div/table').get_attribute('outerHTML')\n",
    "    # Storing\n",
    "    drives_per_game = pd.read_html(html_table)[0]\n",
    "    drives_per_game.to_json('../data/'+ players[0].nbaid() +'/20' + year[-2:] + 'drivespergame.json')\n",
    "    print('Year '+ year + ' completed')"
   ]
  },
  {
   "cell_type": "markdown",
   "metadata": {},
   "source": [
    "Download data of usage, scoring and shooting"
   ]
  },
  {
   "cell_type": "code",
   "execution_count": 5,
   "metadata": {},
   "outputs": [
    {
     "name": "stdout",
     "output_type": "stream",
     "text": [
      "trad 2019-20 completed\n",
      "adv 2019-20 completed\n",
      "scoring 2019-20 completed\n",
      "misc 2019-20 completed\n",
      "usage 2019-20 completed\n",
      "shooting 2019-20 completed\n"
     ]
    }
   ],
   "source": [
    "dict = {\n",
    "    'trad': 'https://www.nba.com/stats/players/traditional/?sort=PTS&dir=-1&Season={0}&SeasonType=Regular%20Season&PerMode=Per100Possessions&CF=GP*GE*30',\n",
    "    'adv': 'https://www.nba.com/stats/players/advanced/?sort=GP&dir=-1&Season={0}&SeasonType=Regular%20Season&CF=GP*GE*30',\n",
    "    'scoring': 'https://www.nba.com/stats/players/scoring/?sort=MIN&dir=-1&Season={0}&SeasonType=Regular%20Season&CF=GP*GE*30',\n",
    "    'misc': 'https://www.nba.com/stats/players/misc/?sort=GP&dir=-1&Season={0}&SeasonType=Regular%20Season&PerMode=Per100Possessions&CF=GP*GE*30',\n",
    "    'usage': 'https://www.nba.com/stats/players/usage/?sort=USG_PCT&dir=-1&Season={0}&SeasonType=Regular%20Season&CF=GP*GE*30',\n",
    "    'shooting': 'https://www.nba.com/stats/players/shooting/?Season={0}&SeasonType=Regular%20Season&DistanceRange=By%20Zone'\n",
    "}\n",
    "\n",
    "shooting_columns = ['PLAYER', 'TEAM', 'AGE', 'RA FGM', 'RA FGA', 'RA FG%',\n",
    "                    'ITP FGM', 'ITP FGA', 'ITP FG%', 'MR FGM', 'MR FGA', 'MR FG%',\n",
    "                    'LC3 FGM', 'LC3 FGA', 'LC3 FG%','RC3 FGM', 'RC3 FGA', 'RC3 FG%',\n",
    "                    'C3 FGM', 'C3 FGA', 'C3 FG%', 'AB3 FGM', 'AB3 FGA', 'AB3 FG%']\n",
    "# Uncomment next lines if first time to accept cookies and prevent errors\n",
    "# driver.get('https://www.nba.com/stats/')\n",
    "# WebDriverWait(driver, 10).until(EC.presence_of_element_located((By.XPATH ,'//*[@id=\"onetrust-accept-btn-handler\"]'))).click()\n",
    "\n",
    "seasons = list(set([s for player in players for s in player.nbaseasons()]))\n",
    "s = ['2019-20']\n",
    "for season in s:\n",
    "    general_season = pd.DataFrame()\n",
    "    for stat, url in dict.items():\n",
    "        driver.get(url.format(season))\n",
    "        WebDriverWait(driver, 10).until(EC.presence_of_element_located((By.XPATH ,'/html/body/main/div/div/div[2]/div/div/nba-stat-table/div[1]/div/div/select'))).click()\n",
    "        driver.find_element(By.XPATH, '/html/body/main/div/div/div[2]/div/div/nba-stat-table/div[1]/div/div/select/option[1]').click()\n",
    "        html_table = driver.find_element(By.XPATH, '/html/body/main/div/div/div[2]/div/div/nba-stat-table/div[2]/div[1]/table').get_attribute('outerHTML')\n",
    "        stats_season = pd.read_html(html_table)[0]\n",
    "        if 'Unnamed: 0' in stats_season.columns:\n",
    "            stats_season = stats_season.drop('Unnamed: 0', axis=1)\n",
    "        if stat == 'shooting':\n",
    "            stats_season.columns = shooting_columns\n",
    "            stats_season.dropna(axis=0, inplace=True)\n",
    "        else:\n",
    "            stats_season.dropna(axis=1, inplace=True)\n",
    "        stats_season.columns = stats_season.columns.str.upper()\n",
    "        if general_season.empty is True:\n",
    "            general_season = stats_season\n",
    "        else:\n",
    "            general_season = pd.merge(general_season, stats_season, on='PLAYER', suffixes=('', '_y'))\n",
    "            general_season = general_season.drop(general_season.filter(regex='_y$').columns.tolist(), axis=1)\n",
    "        print(stat, season, 'completed')\n",
    "    general_season.to_json('../data/byseason/' + season +'.json')\n"
   ]
  },
  {
   "cell_type": "code",
   "execution_count": 23,
   "metadata": {},
   "outputs": [
    {
     "name": "stdout",
     "output_type": "stream",
     "text": [
      "trad 2021-2022 completed\n",
      "adv 2021-2022 completed\n",
      "scoring 2021-2022 completed\n",
      "misc 2021-2022 completed\n",
      "usage 2021-2022 completed\n",
      "shooting 2021-2022 completed\n"
     ]
    }
   ],
   "source": [
    "#driver.get('https://www.nba.com/stats/')\n",
    "#WebDriverWait(driver, 10).until(EC.presence_of_element_located((By.XPATH ,'//*[@id=\"onetrust-accept-btn-handler\"]'))).click()\n",
    "dict = {\n",
    "    'trad': 'https://www.nba.com/stats/players/traditional/?sort=PTS&dir=-1&Season={0}&SeasonType=Regular%20Season&PerMode=Per100Possessions&CF=GP*GE*30',\n",
    "    'adv': 'https://www.nba.com/stats/players/advanced/?sort=GP&dir=-1&Season={0}&SeasonType=Regular%20Season&CF=GP*GE*30',\n",
    "    'scoring': 'https://www.nba.com/stats/players/scoring/?sort=MIN&dir=-1&Season={0}&SeasonType=Regular%20Season&CF=GP*GE*30',\n",
    "    'misc': 'https://www.nba.com/stats/players/misc/?sort=GP&dir=-1&Season={0}&SeasonType=Regular%20Season&PerMode=Per100Possessions&CF=GP*GE*30',\n",
    "    'usage': 'https://www.nba.com/stats/players/usage/?sort=USG_PCT&dir=-1&Season={0}&SeasonType=Regular%20Season&CF=GP*GE*30',\n",
    "    'shooting': 'https://www.nba.com/stats/players/shooting/?Season={0}&SeasonType=Regular%20Season&DistanceRange=By%20Zone'\n",
    "}\n",
    "\n",
    "shooting_columns = ['PLAYER', 'TEAM', 'AGE', 'RA FGM', 'RA FGA', 'RA FG%',\n",
    "                    'ITP FGM', 'ITP FGA', 'ITP FG%', 'MR FGM', 'MR FGA', 'MR FG%',\n",
    "                    'LC3 FGM', 'LC3 FGA', 'LC3 FG%','RC3 FGM', 'RC3 FGA', 'RC3 FG%',\n",
    "                    'C3 FGM', 'C3 FGA', 'C3 FG%', 'AB3 FGM', 'AB3 FGA', 'AB3 FG%']\n",
    "general_season = pd.DataFrame()\n",
    "season = '2021-2022'\n",
    "for stat, url in dict.items():\n",
    "    driver.get(url.format(season))\n",
    "    WebDriverWait(driver, 10).until(EC.presence_of_element_located((By.XPATH ,'/html/body/main/div/div/div[2]/div/div/nba-stat-table/div[1]/div/div/select'))).click()\n",
    "    driver.find_element(By.XPATH, '/html/body/main/div/div/div[2]/div/div/nba-stat-table/div[1]/div/div/select/option[1]').click()\n",
    "    html_table = driver.find_element(By.XPATH, '/html/body/main/div/div/div[2]/div/div/nba-stat-table/div[2]/div[1]/table').get_attribute('outerHTML')\n",
    "    stats_season = pd.read_html(html_table)[0]\n",
    "    if 'Unnamed: 0' in stats_season.columns:\n",
    "        stats_season = stats_season.drop('Unnamed: 0', axis=1)\n",
    "    if stat == 'shooting':\n",
    "        stats_season.columns = shooting_columns\n",
    "        stats_season.dropna(axis=0, inplace=True)\n",
    "    else:\n",
    "        stats_season.dropna(axis=1, inplace=True)\n",
    "    stats_season.columns = stats_season.columns.str.upper()\n",
    "    if general_season.empty is True:\n",
    "        general_season = stats_season\n",
    "    else:\n",
    "        general_season = pd.merge(general_season, stats_season, on='PLAYER', suffixes=('', '_y'))\n",
    "        general_season = general_season.drop(general_season.filter(regex='_y$').columns.tolist(), axis=1)\n",
    "    print(stat, season, 'completed')\n",
    "#general_season.to_json('../data/byseason/' + season +'.json')"
   ]
  },
  {
   "cell_type": "markdown",
   "metadata": {},
   "source": [
    "Shot charts data"
   ]
  },
  {
   "cell_type": "code",
   "execution_count": 15,
   "metadata": {},
   "outputs": [
    {
     "name": "stdout",
     "output_type": "stream",
     "text": [
      "Starting with Ja Morant\n",
      "Ja Morant 2019-20 completed.\n",
      "Ja Morant 2020-21 completed.\n",
      "Ja Morant 2021-22 completed.\n",
      "Starting with Derrick Rose\n",
      "Derrick Rose 2008-09 completed.\n",
      "Derrick Rose 2009-10 completed.\n",
      "Derrick Rose 2010-11 completed.\n",
      "Starting with Russell Westbrook\n",
      "Russell Westbrook 2008-09 completed.\n",
      "Russell Westbrook 2009-10 completed.\n",
      "Russell Westbrook 2010-11 completed.\n",
      "Starting with Allen Iverson\n",
      "Allen Iverson 1996-97 completed.\n",
      "Allen Iverson 1997-98 completed.\n",
      "Allen Iverson 1998-99 completed.\n"
     ]
    }
   ],
   "source": [
    "for player in players:\n",
    "    print('Starting with ' + player.name())\n",
    "    for season in player.nbaseasons():\n",
    "        # Create JSON request\n",
    "        shot_json = shotchartdetail.ShotChartDetail(\n",
    "                team_id = player.nbateamid(),\n",
    "                player_id = player.nbaid(),\n",
    "                context_measure_simple = 'FGA',\n",
    "                season_nullable = season,\n",
    "                season_type_all_star = 'Regular Season')\n",
    "        # Load data into a Python dictionary\n",
    "        shot_data = json.loads(shot_json.get_json())\n",
    "        # Get the relevant data from our dictionary\n",
    "        relevant_data = shot_data['resultSets'][0]\n",
    "        # Get the headers and row data\n",
    "        headers = relevant_data['headers']\n",
    "        rows = relevant_data['rowSet']\n",
    "        # Create pandas DataFrame\n",
    "        player_data = pd.DataFrame(rows)\n",
    "        player_data.columns = headers\n",
    "        player_data.to_json('../data/' + player.nbaid() + '/' + season + '_shots.json')\n",
    "        print(player.name() + ' ' + season + ' completed.')"
   ]
  }
 ],
 "metadata": {
  "interpreter": {
   "hash": "cc3f330b50fe39be0c0be814fceb468cf76a12b0f7c5ddfcadc5b692d04ca0b6"
  },
  "kernelspec": {
   "display_name": "Python 3.9.7 ('base')",
   "language": "python",
   "name": "python3"
  },
  "language_info": {
   "codemirror_mode": {
    "name": "ipython",
    "version": 3
   },
   "file_extension": ".py",
   "mimetype": "text/x-python",
   "name": "python",
   "nbconvert_exporter": "python",
   "pygments_lexer": "ipython3",
   "version": "3.9.7"
  },
  "orig_nbformat": 4
 },
 "nbformat": 4,
 "nbformat_minor": 2
}
