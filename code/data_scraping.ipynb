{
 "cells": [
  {
   "cell_type": "code",
   "execution_count": 1,
   "metadata": {},
   "outputs": [],
   "source": [
    "# Import the webdriver\n",
    "from selenium import webdriver\n",
    "from selenium.webdriver.common.by import By\n",
    "# Import the chrome client\n",
    "from webdriver_manager.chrome import ChromeDriverManager\n",
    "from selenium.webdriver.chrome.service import Service\n",
    "# Import pandas for data analysis\n",
    "import pandas as pd\n",
    "pd.set_option('display.max_columns', None)"
   ]
  },
  {
   "cell_type": "code",
   "execution_count": 8,
   "metadata": {},
   "outputs": [],
   "source": [
    "players = {\n",
    "    'Ja Morant': {'nbaid': '1629630', 'nbateamid': '1610612763', 'nbaseasons': ['2019-20','2020-21','2021-22'], 'bballrefid': 'm/moranja01', 'bballrefseasons': ['2020', '2021', '2022']},\n",
    "    'Derrick Rose': {'nbaid': '201565', 'nbateamid': '1610612741', 'nbaseasons': ['2008-09','2009-10','2010-11'], 'bballrefid': 'r/rosede01', 'bballrefseasons': ['2009', '2010', '2011']},\n",
    "    'Russell Westbrook': {'nbaid': '201566', 'nbateamid': '1610612760', 'nbaseasons': ['2008-09','2009-10','2010-11'], 'bballrefid': 'w/westbru01', 'bballrefseasons': ['2009', '2010', '2011']},\n",
    "    'Allen Iverson': {'nbaid': '947', 'nbateamid': '1610612755', 'nbaseasons': ['1997-98','1998-99','1999-2000'], 'bballrefid': 'i/iversal01', 'bballrefseasons': ['1998', '1999', '2000']}\n",
    "}\n",
    "\n",
    "tables_NBA_100pos = ['//*[@id=\"__next\"]/div[2]/section/div[4]/section[3]/div/div[2]/div[3]/table', '//*[@id=\"__next\"]/div[2]/section/div[4]/section[3]/div/div[3]/div/div[3]/table', '//*[@id=\"__next\"]/div[2]/section/div[4]/section[3]/div/div[4]/div/div[3]/table', '//*[@id=\"__next\"]/div[2]/section/div[4]/section[3]/div/div[5]/div/div[3]/table', '//*[@id=\"__next\"]/div[2]/section/div[4]/section[3]/div/div[6]/div/div[3]/table']"
   ]
  },
  {
   "cell_type": "code",
   "execution_count": 9,
   "metadata": {},
   "outputs": [
    {
     "name": "stderr",
     "output_type": "stream",
     "text": [
      "\n",
      "\n",
      "====== WebDriver manager ======\n",
      "Current google-chrome version is 100.0.4896\n",
      "Get LATEST chromedriver version for 100.0.4896 google-chrome\n",
      "Driver [C:\\Users\\Gonzalo\\.wdm\\drivers\\chromedriver\\win32\\100.0.4896.60\\chromedriver.exe] found in cache\n"
     ]
    },
    {
     "name": "stdout",
     "output_type": "stream",
     "text": [
      "Starting with Allen Iverson\n",
      "Table  1\n",
      "Table  2\n",
      "Table  3\n",
      "Table  4\n",
      "Table  5\n",
      "Season average per 100 possesions for  Allen Iverson  completed.\n",
      "Boxscore  Allen Iverson 1998  completed.\n",
      "Boxscore  Allen Iverson 1999  completed.\n",
      "Boxscore  Allen Iverson 2000  completed.\n"
     ]
    }
   ],
   "source": [
    "# Install web-driver\n",
    "driver = webdriver.Chrome(service=Service(ChromeDriverManager().install()))\n",
    "# Getting data season average per 100pos\n",
    "for key, value in players.items():\n",
    "# Tell the web-driver what website to get.\n",
    "    print('Starting with', key)\n",
    "    driver.get('https://www.nba.com/stats/player/' + value['nbaid'] + '?PerMode=Per100Possessions')\n",
    "    season_avg_per100 = pd.DataFrame()\n",
    "    for j in range(5):\n",
    "        print('Table', j+1)\n",
    "        html_table = driver.find_element(By.XPATH, tables_NBA_100pos[j]).get_attribute(\"outerHTML\") #This is the xpath (not full)\n",
    "        table = pd.read_html(html_table)\n",
    "        season_avg_per100 = pd.concat([season_avg_per100, table[0].tail(3).dropna(axis=1)], axis = 1)\n",
    "    print('Season average per 100 possesions for', key, 'completed.')\n",
    "    season_avg_per100.columns = season_avg_per100.columns.get_level_values(1)\n",
    "    season_avg_per100 = season_avg_per100.loc[:,~season_avg_per100.columns.duplicated()]\n",
    "    season_avg_per100.to_json('../data/'+ value['nbaid'] +'/season_avg_per100.json')\n",
    "    for year in value['bballrefseasons']:\n",
    "        season_boxscore = pd.DataFrame()\n",
    "        driver.get('https://www.basketball-reference.com/players/' + value['bballrefid'] + '/gamelog/' + year)\n",
    "        html_table = driver.find_element(By.XPATH, '//*[@id=\"pgl_basic\"]').get_attribute('outerHTML')\n",
    "        season_boxscore = pd.read_html(html_table)[0]\n",
    "        season_boxscore = pd.read_html(html_table)\n",
    "        season_boxscore[0] = season_boxscore[0].drop(['Rk', 'Age', 'Tm', 'Unnamed: 5', 'Opp', 'Unnamed: 7'], axis = 1).dropna()\n",
    "        season_boxscore[0] = season_boxscore[0].set_index('G').drop('G', axis = 0)\n",
    "        season_boxscore[0].to_json('../data/'+ value['nbaid'] +'/' + year + 'boxscores.json')\n",
    "        print('Boxscore', key, year , 'completed.')\n"
   ]
  },
  {
   "cell_type": "code",
   "execution_count": null,
   "metadata": {},
   "outputs": [],
   "source": []
  }
 ],
 "metadata": {
  "interpreter": {
   "hash": "cc3f330b50fe39be0c0be814fceb468cf76a12b0f7c5ddfcadc5b692d04ca0b6"
  },
  "kernelspec": {
   "display_name": "Python 3.9.7 ('base')",
   "language": "python",
   "name": "python3"
  },
  "language_info": {
   "codemirror_mode": {
    "name": "ipython",
    "version": 3
   },
   "file_extension": ".py",
   "mimetype": "text/x-python",
   "name": "python",
   "nbconvert_exporter": "python",
   "pygments_lexer": "ipython3",
   "version": "3.9.7"
  },
  "orig_nbformat": 4
 },
 "nbformat": 4,
 "nbformat_minor": 2
}
