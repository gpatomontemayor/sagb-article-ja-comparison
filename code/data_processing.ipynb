{
 "cells": [
  {
   "cell_type": "code",
   "execution_count": 1,
   "metadata": {},
   "outputs": [],
   "source": [
    "import pandas as pd\n",
    "import seaborn as sns\n",
    "import numpy as np\n",
    "import matplotlib.pyplot as plt\n",
    "import feather\n",
    "from extras import *\n",
    "pd.set_option('display.max_columns', None)"
   ]
  },
  {
   "cell_type": "code",
   "execution_count": 2,
   "metadata": {},
   "outputs": [],
   "source": [
    "ja = Player('Ja Morant', '1629630', '1610612763', ['2019-20','2020-21','2021-22'], 'm/moranja01', ['2020', '2021', '2022'])\n",
    "drose = Player('Derrick Rose', '201565', '1610612741', ['2008-09','2009-10','2010-11'], 'r/rosede01', ['2009', '2010', '2011'])\n",
    "west = Player('Russell Westbrook', '201566', '1610612760', ['2008-09','2009-10','2010-11'], 'w/westbru01', ['2009', '2010', '2011'])\n",
    "iver = Player('Allen Iverson', '947', '1610612755', ['1996-97','1997-98','1998-99'], 'i/iversal01', [ '1997', '1998', '1999'])\n",
    "players = [ja, drose, west, iver]\n",
    "players2 = [ja, drose]"
   ]
  },
  {
   "cell_type": "markdown",
   "metadata": {},
   "source": [
    "Processing data for the total points graph"
   ]
  },
  {
   "cell_type": "code",
   "execution_count": 3,
   "metadata": {},
   "outputs": [],
   "source": [
    "for player in players2:\n",
    "    player_data = pd.DataFrame()\n",
    "    for year in player.bballrefseasons():\n",
    "        new_season = pd.read_json('../data/'+ player.nbaid() +'/'+ year +'boxscores.json')\n",
    "        player_data = pd.concat([player_data, new_season], axis=0)\n",
    "    player_data = player_data.reset_index(drop=True)\n",
    "    player_data = player_data[['PTS']].cumsum()\n",
    "    feather.write_dataframe(player_data, './Rdata/'+ player.nbaid() + '_cumpts.feather')"
   ]
  },
  {
   "cell_type": "markdown",
   "metadata": {},
   "source": [
    "Processing data for radar plots"
   ]
  },
  {
   "cell_type": "code",
   "execution_count": null,
   "metadata": {},
   "outputs": [],
   "source": [
    "ja_season_avg = pd.read_json('../data/1629630/season_avg_per100.json')\n",
    "ja_season_avg = (\n",
    "    ja_season_avg.T\n",
    "    .rename(columns=ja_season_avg['By Year'])\n",
    "    .drop(['By Year', 'TEAM'], axis=0)\n",
    "    .reset_index()\n",
    ")\n",
    "feather.write_dataframe(ja_season_avg, './Rdata/ja_season_avg_per100.feather')\n",
    "drose_season_avg = pd.read_json('../data/201565/season_avg_per100.json')"
   ]
  },
  {
   "cell_type": "markdown",
   "metadata": {},
   "source": [
    "Processing data for beeswarm plots"
   ]
  },
  {
   "cell_type": "code",
   "execution_count": 5,
   "metadata": {},
   "outputs": [],
   "source": [
    "def getBin(num, q25, q75):\n",
    "    if num < q25:\n",
    "        return 'LOW'\n",
    "    elif (num >= q25) and (num < q75):\n",
    "        return 'MEDIUM'\n",
    "    else:\n",
    "        return 'HIGH'\n",
    "\n",
    "allyears = pd.DataFrame()\n",
    "\n",
    "for year in players2[0].nbaseasons():\n",
    "    drivespg = pd.read_json('../data/1629630/20' + year[-2:] + 'drivespergame.json')\n",
    "    drivespg.describe()\n",
    "    q25, q75 = drivespg['DRIVES'].quantile(.25), drivespg['DRIVES'].quantile(.75)\n",
    "    drivespg['BIN'] = drivespg['DRIVES'].apply(getBin, args=(q25, q75))\n",
    "    drivespg['X'] = ['']*len(drivespg)\n",
    "    drivespg['YEAR'] = [year]*len(drivespg)\n",
    "    allyears = pd.concat([allyears, drivespg], axis=0)\n",
    "\n",
    "feather.write_dataframe(allyears, './Rdata/drivespg.feather')"
   ]
  },
  {
   "cell_type": "markdown",
   "metadata": {},
   "source": [
    "Processing data for shot_plots"
   ]
  },
  {
   "cell_type": "code",
   "execution_count": 4,
   "metadata": {},
   "outputs": [],
   "source": [
    "for player in players:\n",
    "    allshots = pd.DataFrame()\n",
    "    for season in player.nbaseasons():\n",
    "        allshots = pd.concat([allshots, pd.read_json('../data/' + player.nbaid() + '/' + season + '_shots.json')], axis=0)\n",
    "    feather.write_dataframe(allshots, './Rdata/'+ player.nbaid() +'_allshots.feather')"
   ]
  },
  {
   "cell_type": "code",
   "execution_count": null,
   "metadata": {},
   "outputs": [],
   "source": []
  }
 ],
 "metadata": {
  "interpreter": {
   "hash": "cc3f330b50fe39be0c0be814fceb468cf76a12b0f7c5ddfcadc5b692d04ca0b6"
  },
  "kernelspec": {
   "display_name": "Python 3.9.7 ('base')",
   "language": "python",
   "name": "python3"
  },
  "language_info": {
   "codemirror_mode": {
    "name": "ipython",
    "version": 3
   },
   "file_extension": ".py",
   "mimetype": "text/x-python",
   "name": "python",
   "nbconvert_exporter": "python",
   "pygments_lexer": "ipython3",
   "version": "3.9.7"
  },
  "orig_nbformat": 4
 },
 "nbformat": 4,
 "nbformat_minor": 2
}
